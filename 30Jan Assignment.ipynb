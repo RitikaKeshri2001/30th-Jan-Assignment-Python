{
 "cells": [
  {
   "cell_type": "markdown",
   "id": "a26fa0b7-6925-41d5-875e-50df79380b00",
   "metadata": {},
   "source": [
    "Q1. Write a program to accept percentage from the user and display the grade."
   ]
  },
  {
   "cell_type": "code",
   "execution_count": 1,
   "id": "5c42e31d-650f-468d-95ee-267761617124",
   "metadata": {},
   "outputs": [
    {
     "name": "stdin",
     "output_type": "stream",
     "text": [
      "Enter your marks:  91\n"
     ]
    },
    {
     "name": "stdout",
     "output_type": "stream",
     "text": [
      "Your grade is:  A\n"
     ]
    }
   ],
   "source": [
    "marks = float(input(\"Enter your marks: \"))\n",
    "grade = \"\"\n",
    "if marks > 90 :\n",
    "    grade = 'A'\n",
    "elif marks > 80 :\n",
    "    grade = 'B'\n",
    "elif marks >= 60 :\n",
    "    grade = 'C'\n",
    "else :\n",
    "    grade = 'D'\n",
    "print(\"Your grade is: \", grade)"
   ]
  },
  {
   "cell_type": "markdown",
   "id": "0e86ad54-98b2-4509-b6b9-f968a6da0af2",
   "metadata": {},
   "source": [
    "Q2. Write a program to accept the cost of bike and display the road tax to be paid."
   ]
  },
  {
   "cell_type": "code",
   "execution_count": 2,
   "id": "90ff72d4-d875-4c2f-a8b2-e7966d24a95e",
   "metadata": {},
   "outputs": [
    {
     "name": "stdin",
     "output_type": "stream",
     "text": [
      "Enter cost price of bike:  60000\n"
     ]
    },
    {
     "name": "stdout",
     "output_type": "stream",
     "text": [
      "Road to be paid:  6000.0\n"
     ]
    }
   ],
   "source": [
    "cost = int(input(\"Enter cost price of bike: \"))\n",
    "tax = 0\n",
    "if cost > 100000 :\n",
    "    tax = (15*cost)/100\n",
    "elif cost > 50000 :\n",
    "    tax = (10*cost)/100\n",
    "else :\n",
    "    tax = (5*cost)/100\n",
    "print(\"Road to be paid: \", str(tax))"
   ]
  },
  {
   "cell_type": "markdown",
   "id": "a074599f-a96c-4019-8343-3d8962faf8f6",
   "metadata": {},
   "source": [
    "Q3.Accept any city from the user and display monument of that city."
   ]
  },
  {
   "cell_type": "code",
   "execution_count": 3,
   "id": "5b7d71c7-b921-4b8f-80c5-88dfa828d0dd",
   "metadata": {},
   "outputs": [
    {
     "name": "stdin",
     "output_type": "stream",
     "text": [
      "Enter city:  Agra\n"
     ]
    },
    {
     "name": "stdout",
     "output_type": "stream",
     "text": [
      "Monument: Taj Mahal\n"
     ]
    }
   ],
   "source": [
    "city = input(\"Enter city: \")\n",
    "if city.lower() == \"delhi\":\n",
    "    print(\"Monument: Red Fort\")\n",
    "elif city.lower() == \"agra\":\n",
    "    print(\"Monument: Taj Mahal\")\n",
    "elif city.lower() == \"jaipur\" :\n",
    "    print(\"Monument: Jal Mahal\")\n",
    "else :\n",
    "    print(\"Monument information is not available for this city\")"
   ]
  },
  {
   "cell_type": "markdown",
   "id": "49688263-68a6-4f78-a54f-7c428828e556",
   "metadata": {},
   "source": [
    "Q4.Check how many times a given number can be divided by 3 before it is less than or equal to 10."
   ]
  },
  {
   "cell_type": "code",
   "execution_count": 4,
   "id": "476b1582-eacb-4307-822f-9839e27dbbdb",
   "metadata": {},
   "outputs": [
    {
     "name": "stdin",
     "output_type": "stream",
     "text": [
      "Enter a number 100\n"
     ]
    },
    {
     "name": "stdout",
     "output_type": "stream",
     "text": [
      "3\n"
     ]
    }
   ],
   "source": [
    "num = int(input(\"Enter a number\"))\n",
    "count = 0\n",
    "while(num > 10) :\n",
    "    num = num / 3\n",
    "    count += 1\n",
    "print(count)"
   ]
  },
  {
   "cell_type": "markdown",
   "id": "be50f50d-1ff6-42f9-a1bc-250891d6fb5b",
   "metadata": {},
   "source": [
    "Q5.Why and when to use while loop in python give a detailed description with example.\n",
    "    \n",
    "    while loop is used to execute a block of statements repeatedly until a given \n",
    "    certain condition is satisfied. And when the condition become false, the line \n",
    "    immediately after the loop is in the program is executed. when a while loop \n",
    "    is executed, expression is evaluated in a Boolean context, and if it is true,\n",
    "    the loop body is executed. Then the expression is checked again , if it is still\n",
    "    true then the body is executed again and this continues until the expression \n",
    "    become false.\n",
    "    while loop is used when to repeat a specific block of code an unknown number\n",
    "    of times, until a condition is met.\n",
    "    For example, to print number 1 to 10 or till user want \n",
    "                 to print number n to 1"
   ]
  },
  {
   "cell_type": "code",
   "execution_count": 5,
   "id": "88a62951-2886-41de-bb90-3d2dda700141",
   "metadata": {},
   "outputs": [
    {
     "name": "stdin",
     "output_type": "stream",
     "text": [
      "Enter a number 5\n"
     ]
    },
    {
     "name": "stdout",
     "output_type": "stream",
     "text": [
      "1\n",
      "2\n",
      "3\n",
      "4\n",
      "5\n"
     ]
    }
   ],
   "source": [
    "n = int(input(\"Enter a number\"))\n",
    "i = 1\n",
    "while i <= n:\n",
    "    print(i)\n",
    "    i += 1"
   ]
  },
  {
   "cell_type": "code",
   "execution_count": 6,
   "id": "727342f5-a306-46f0-88d9-9819a06a4227",
   "metadata": {},
   "outputs": [
    {
     "name": "stdin",
     "output_type": "stream",
     "text": [
      "Enter a number 5\n"
     ]
    },
    {
     "name": "stdout",
     "output_type": "stream",
     "text": [
      "5\n",
      "4\n",
      "3\n",
      "2\n",
      "1\n"
     ]
    }
   ],
   "source": [
    "n = int(input(\"Enter a number\"))\n",
    "while n > 0:\n",
    "    print(n)\n",
    "    n -= 1"
   ]
  },
  {
   "cell_type": "markdown",
   "id": "742486c8-6943-4951-830f-2f00566fd832",
   "metadata": {},
   "source": [
    "Q6.Use nested while loop to print 3 different pattern."
   ]
  },
  {
   "cell_type": "code",
   "execution_count": 7,
   "id": "4b03232f-7281-4f23-974f-a9ecbe30eb00",
   "metadata": {},
   "outputs": [
    {
     "name": "stdout",
     "output_type": "stream",
     "text": [
      "*\n",
      "\n",
      "**\n",
      "\n",
      "***\n",
      "\n",
      "****\n",
      "\n"
     ]
    }
   ],
   "source": [
    "i = 1\n",
    "while i<=4 :\n",
    "    j = 1\n",
    "    while j <= i :\n",
    "        print(\"*\", end = \"\")\n",
    "        j += 1\n",
    "    print(\"\\n\")\n",
    "    i += 1"
   ]
  },
  {
   "cell_type": "code",
   "execution_count": 8,
   "id": "ec19b716-dd65-4b77-9e3f-eea609c78022",
   "metadata": {},
   "outputs": [
    {
     "name": "stdout",
     "output_type": "stream",
     "text": [
      "*\n",
      "\n",
      "**\n",
      "\n",
      "***\n",
      "\n",
      "****\n",
      "\n",
      "***\n",
      "\n",
      "**\n",
      "\n",
      "*\n",
      "\n"
     ]
    }
   ],
   "source": [
    "i = 1\n",
    "while i<=4 :\n",
    "    j = 1\n",
    "    while j <= i :\n",
    "        print(\"*\", end = \"\")\n",
    "        j += 1\n",
    "    print(\"\\n\")\n",
    "    i += 1\n",
    "k = 3\n",
    "while k > 0 :\n",
    "    j = 1\n",
    "    while j <= k :\n",
    "        print(\"*\", end = \"\")\n",
    "        j += 1\n",
    "    print(\"\\n\")\n",
    "    k -= 1"
   ]
  },
  {
   "cell_type": "code",
   "execution_count": 9,
   "id": "86393bb3-3a8d-40b2-ba0f-00e23b92faa6",
   "metadata": {},
   "outputs": [
    {
     "name": "stdout",
     "output_type": "stream",
     "text": [
      "   *\n",
      "\n",
      "  **\n",
      "\n",
      " ***\n",
      "\n",
      "****\n",
      "\n"
     ]
    }
   ],
   "source": [
    "i = 1\n",
    "while i <= 4 :\n",
    "    j, k = 1, 1\n",
    "    while j <= 4-i :\n",
    "        print(\" \", end = \"\")\n",
    "        j += 1\n",
    "    while k <= i :\n",
    "        print(\"*\", end = \"\")\n",
    "        k += 1\n",
    "    print(\"\\n\")\n",
    "    i += 1"
   ]
  },
  {
   "cell_type": "markdown",
   "id": "07e9ba77-1b2c-4e60-9662-dd4641e9b803",
   "metadata": {},
   "source": [
    "Q7. Reverse a while loop to display numbers from 10 to 1."
   ]
  },
  {
   "cell_type": "code",
   "execution_count": 10,
   "id": "50b96d3e-8f0d-46bc-abd4-44d2a823a0be",
   "metadata": {},
   "outputs": [
    {
     "name": "stdout",
     "output_type": "stream",
     "text": [
      "10\n",
      "9\n",
      "8\n",
      "7\n",
      "6\n",
      "5\n",
      "4\n",
      "3\n",
      "2\n",
      "1\n"
     ]
    }
   ],
   "source": [
    "i = 10\n",
    "while i > 0:\n",
    "    print(i)\n",
    "    i -= 1"
   ]
  },
  {
   "cell_type": "markdown",
   "id": "caf64bcd-6389-4c3e-85ee-719f2b43a1eb",
   "metadata": {},
   "source": [
    "Q8 and Q7 is same."
   ]
  },
  {
   "cell_type": "code",
   "execution_count": null,
   "id": "f93db713-1847-423b-95f0-b2b244c2e464",
   "metadata": {},
   "outputs": [],
   "source": []
  }
 ],
 "metadata": {
  "kernelspec": {
   "display_name": "Python 3 (ipykernel)",
   "language": "python",
   "name": "python3"
  },
  "language_info": {
   "codemirror_mode": {
    "name": "ipython",
    "version": 3
   },
   "file_extension": ".py",
   "mimetype": "text/x-python",
   "name": "python",
   "nbconvert_exporter": "python",
   "pygments_lexer": "ipython3",
   "version": "3.10.8"
  }
 },
 "nbformat": 4,
 "nbformat_minor": 5
}
